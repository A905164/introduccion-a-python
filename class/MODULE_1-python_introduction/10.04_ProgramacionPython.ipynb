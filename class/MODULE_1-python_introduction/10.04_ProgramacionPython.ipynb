{
 "cells": [
  {
   "cell_type": "markdown",
   "metadata": {},
   "source": [
    "# 4- Programación en Python\n",
    "\n",
    "Curso Introducción a Python - Tecnun, Universidad de Navarra"
   ]
  },
  {
   "cell_type": "markdown",
   "metadata": {},
   "source": [
    "## Funciones y Métodos"
   ]
  },
  {
   "cell_type": "markdown",
   "metadata": {},
   "source": [
    "Python contiene varias funciones que nos permiten operar con distintas variables. Por ejemplo, podemos calcular el número de elementos que contiene una lista, el máximo, etc."
   ]
  },
  {
   "cell_type": "code",
   "execution_count": null,
   "metadata": {},
   "outputs": [],
   "source": []
  },
  {
   "cell_type": "markdown",
   "metadata": {},
   "source": [
    "Aparte de esto, las variables en Python tienen, por defecto, asignadas unas funciones que varían según el tipo de variable que estemos empleando. A estas funciones se les llama métodos, siguiendo el paradigma de la Programación Orientada a Objetos. Vamos a ver unos pocos ejemplos:"
   ]
  },
  {
   "cell_type": "code",
   "execution_count": null,
   "metadata": {},
   "outputs": [],
   "source": []
  },
  {
   "cell_type": "code",
   "execution_count": null,
   "metadata": {},
   "outputs": [],
   "source": []
  },
  {
   "cell_type": "code",
   "execution_count": null,
   "metadata": {},
   "outputs": [],
   "source": []
  },
  {
   "cell_type": "code",
   "execution_count": null,
   "metadata": {},
   "outputs": [],
   "source": []
  },
  {
   "cell_type": "markdown",
   "metadata": {},
   "source": [
    "Para cualquier cuestión referente al empleo de métodos la función *help()* aclara muchas dudas. Se emplea de la siguiente manera."
   ]
  },
  {
   "cell_type": "code",
   "execution_count": null,
   "metadata": {},
   "outputs": [],
   "source": []
  },
  {
   "cell_type": "code",
   "execution_count": null,
   "metadata": {},
   "outputs": [],
   "source": []
  },
  {
   "cell_type": "code",
   "execution_count": null,
   "metadata": {},
   "outputs": [],
   "source": []
  },
  {
   "cell_type": "code",
   "execution_count": null,
   "metadata": {},
   "outputs": [],
   "source": []
  },
  {
   "cell_type": "markdown",
   "metadata": {},
   "source": [
    "## Módulos y Funciones propias"
   ]
  },
  {
   "cell_type": "markdown",
   "metadata": {},
   "source": [
    "Existen módulos que han sido creados para distintos usos. Más adelante nos tocará utilizarlos. Pero para ello, primero hay que cargarlos en nuestro entorno de trabajo. Para ello existen distintas opciones:"
   ]
  },
  {
   "cell_type": "code",
   "execution_count": null,
   "metadata": {},
   "outputs": [],
   "source": []
  },
  {
   "cell_type": "markdown",
   "metadata": {},
   "source": [
    "De esta manera, estamos cargando el módulo *numpy* que se emplea para trabajar con vectores, matrices, etc."
   ]
  },
  {
   "cell_type": "code",
   "execution_count": null,
   "metadata": {},
   "outputs": [],
   "source": []
  },
  {
   "cell_type": "markdown",
   "metadata": {},
   "source": [
    "En este caso, estamos cargando el módulo *pandas* y lo etiquetamos como *pd* de forma que, cuando tengamos que usar funciones de dicho módulo, podamos acceder a ella escribiendo *pd* en lugar de *pandas*."
   ]
  },
  {
   "cell_type": "code",
   "execution_count": null,
   "metadata": {},
   "outputs": [],
   "source": []
  },
  {
   "cell_type": "markdown",
   "metadata": {},
   "source": [
    "Con la sentencia de arriba, estamos cargando únicamente la función *pyplot* del módulo *matplotlib*."
   ]
  },
  {
   "cell_type": "markdown",
   "metadata": {},
   "source": [
    "Si queremos acceder a funciones que tenemos en ficheros .py aparte emplearemos la misma sintaxis. Por ejemplo:"
   ]
  },
  {
   "cell_type": "code",
   "execution_count": null,
   "metadata": {},
   "outputs": [],
   "source": []
  },
  {
   "cell_type": "markdown",
   "metadata": {},
   "source": [
    "Otra forma de utilizar funciones es definiéndolas al comienzo del archivo .py que vamos a ejecutar."
   ]
  },
  {
   "cell_type": "code",
   "execution_count": null,
   "metadata": {},
   "outputs": [],
   "source": []
  },
  {
   "cell_type": "markdown",
   "metadata": {},
   "source": [
    "## Listas por comprensión, *all()* y *any()*"
   ]
  },
  {
   "cell_type": "markdown",
   "metadata": {},
   "source": [
    "Las listas por comprensión se emplean para, por ejemplo, aplicar la misma función a todos los elementos de una lista. La sintaxis es la siguiente:\n",
    "\n",
    "                                           [<do this> for <element> in <list>]\n",
    "\n",
    "A continuación convertiremos los elementos de la lista de cadenas de caracteres a números:"
   ]
  },
  {
   "cell_type": "code",
   "execution_count": null,
   "metadata": {},
   "outputs": [],
   "source": []
  },
  {
   "cell_type": "markdown",
   "metadata": {},
   "source": [
    "También se pueden tener en cuenta condiciones al trabajar con listas por comprension. Se hace siguiendo la siguiente expresión:\n",
    "\n",
    "                                   [<do this> for <element> in <list> if <condition>]"
   ]
  },
  {
   "cell_type": "code",
   "execution_count": null,
   "metadata": {},
   "outputs": [],
   "source": []
  },
  {
   "cell_type": "markdown",
   "metadata": {},
   "source": [
    "Las funciones *all()* y *any()* toman listas como argumento y comprueban si la condición que queremos comprobar se cumple en todos o en alguno de los elementos, respectivamente. "
   ]
  },
  {
   "cell_type": "code",
   "execution_count": null,
   "metadata": {},
   "outputs": [],
   "source": []
  },
  {
   "cell_type": "markdown",
   "metadata": {},
   "source": [
    "## Manejo de excepciones "
   ]
  },
  {
   "cell_type": "markdown",
   "metadata": {},
   "source": [
    "Los comandos *try* y *except* nos permiten manejar las excepciones (errores) que podemos encontrarnos en el código. De esta manera, se consigue que, en el caso de encontrar un error en el código de la sentencia *try*, éste siga ejecutándose en la sentencia *except*. En el caso de no haber empleado la sentencia *except*, el código seguirá ejecutándose fuera de la sentencia *try*."
   ]
  },
  {
   "cell_type": "code",
   "execution_count": null,
   "metadata": {},
   "outputs": [],
   "source": []
  },
  {
   "cell_type": "markdown",
   "metadata": {},
   "source": [
    "Además, se puede jugar con los tipos de errores que esperamos para manejar las excepciones de una forma más precisa"
   ]
  },
  {
   "cell_type": "code",
   "execution_count": null,
   "metadata": {},
   "outputs": [],
   "source": []
  },
  {
   "cell_type": "markdown",
   "metadata": {},
   "source": [
    "##  Función *print()* y formateo de cadenas de caracteres"
   ]
  },
  {
   "cell_type": "markdown",
   "metadata": {},
   "source": [
    "Antes hemos visto cómo se utiliza la función *print()* para mostrar por pantalla la frase \"Hello, world!\". A continuación veremos cómo se puede emplear para mostrar por pantalla texto y variables que hayamos calculado."
   ]
  },
  {
   "cell_type": "code",
   "execution_count": null,
   "metadata": {},
   "outputs": [],
   "source": []
  },
  {
   "cell_type": "markdown",
   "metadata": {},
   "source": [
    "En definitiva:\n",
    "\n",
    "- %d es la representación en cadena de caracteres de una variable entera.\n",
    "- %f es la representación en cadena de caracteres de una variable flotante.\n",
    "- %.'x'f es la representación en cadena de caracteres de una variable flotante donde 'x' es el número de decimales a mostrar.\n",
    "- %s es la representación en cadena de caracteres de cualquier variable."
   ]
  },
  {
   "cell_type": "markdown",
   "metadata": {},
   "source": [
    "Podemos obtener el mismo resultado mediante la función *format()*."
   ]
  },
  {
   "cell_type": "code",
   "execution_count": null,
   "metadata": {},
   "outputs": [],
   "source": []
  },
  {
   "cell_type": "markdown",
   "metadata": {},
   "source": [
    "## Archivos de texto "
   ]
  },
  {
   "cell_type": "markdown",
   "metadata": {},
   "source": [
    "En este apartado vamos a introducir brevemente una forma de realizar la lectura y escritura de archivos de texto.\n",
    "\n",
    "Primero, tenemos que abrir el archivo de texto mediante la función *open()*. Utilizaremos la entrada **\"r\"** (read) si queremos leer el archivo y la entrada **\"w\"** (write) si queremos escribir sobre él."
   ]
  },
  {
   "cell_type": "code",
   "execution_count": null,
   "metadata": {},
   "outputs": [],
   "source": []
  },
  {
   "cell_type": "markdown",
   "metadata": {},
   "source": [
    "Para leer el archivo emplearemos el método read()."
   ]
  },
  {
   "cell_type": "code",
   "execution_count": null,
   "metadata": {},
   "outputs": [],
   "source": []
  },
  {
   "cell_type": "markdown",
   "metadata": {},
   "source": [
    "Como lo único que queríamos hacer era leer el archivo de texto, vamos a proceder a cerrarlo."
   ]
  },
  {
   "cell_type": "code",
   "execution_count": null,
   "metadata": {},
   "outputs": [],
   "source": []
  },
  {
   "cell_type": "markdown",
   "metadata": {},
   "source": [
    "A continuación crearemos un archivo de texto nuevo que llamaremos *\"hwx3.txt\"* donde guardaremos el texto que hemos leído repetido en 3 líneas diferentes."
   ]
  },
  {
   "cell_type": "code",
   "execution_count": null,
   "metadata": {},
   "outputs": [],
   "source": []
  },
  {
   "cell_type": "markdown",
   "metadata": {},
   "source": [
    "## Expresiones regulares "
   ]
  },
  {
   "cell_type": "markdown",
   "metadata": {},
   "source": [
    "Las expresiones regulares se emplean para la manipulación de cadenas. En python, se acceden mediante el módulo *re*. Lo cargaremos a continuación."
   ]
  },
  {
   "cell_type": "code",
   "execution_count": null,
   "metadata": {},
   "outputs": [],
   "source": []
  },
  {
   "cell_type": "markdown",
   "metadata": {},
   "source": [
    "Vamos a presentar 4 funciones para trabajar con expresiones regulares.\n",
    "- *re.match()*: Comprueba si el comienzo de la cadena sigue un patrón determinado.\n",
    "- *re.search()*: Comprueba si un patrón determinado está contenido en la cadena.\n",
    "- *re.findall()*: Devuelve todas las veces en las que un patrón determinado está contenido en la cadena.\n",
    "- *re.sub()*: Sustituye una parte de una cadena por otra."
   ]
  },
  {
   "cell_type": "code",
   "execution_count": null,
   "metadata": {},
   "outputs": [],
   "source": []
  },
  {
   "cell_type": "markdown",
   "metadata": {},
   "source": [
    "Es importante mencionar que, para evitar problemas, es mejor trabajar las expresiones regulares con cadenas puras (**r\"\"**)."
   ]
  },
  {
   "cell_type": "markdown",
   "metadata": {},
   "source": [
    "Los metacaracteres juegan un papel muy importante a la hora de trabajar con expresiones regulares, ya que permiten representar conceptos. A continuación presentamos varios de ellos:\n",
    "- **.**: Cualquier carácter.\n",
    "- **^**: Comienzo.\n",
    "- **$**: Final.\n",
    "- **\\***: Cero o más repeticiones.\n",
    "- **+**: Una o más repeticiones.\n",
    "- **?**: Cero o una repetición.\n",
    "- **{x, y}**: Entre x e y repeticiones."
   ]
  },
  {
   "cell_type": "code",
   "execution_count": null,
   "metadata": {},
   "outputs": [],
   "source": []
  },
  {
   "cell_type": "markdown",
   "metadata": {},
   "source": [
    "Para terminar con las expresiones regulares, vamos a introducir el concepto de clases de caracteres. De esta manera, podemos comprobar si existe coincidencia entre la cadena y sólo 1 de los elementos de la clase de caracteres. En este caso, el operador **^** se emplea para negar la clase."
   ]
  },
  {
   "cell_type": "code",
   "execution_count": null,
   "metadata": {},
   "outputs": [],
   "source": []
  },
  {
   "cell_type": "markdown",
   "metadata": {},
   "source": [
    "## Función *input()* "
   ]
  },
  {
   "cell_type": "markdown",
   "metadata": {},
   "source": [
    "Esta función nos permitirá solicitar información al usuario, información que la función nos devolverá como una cadena de caracteres."
   ]
  },
  {
   "cell_type": "code",
   "execution_count": null,
   "metadata": {},
   "outputs": [],
   "source": []
  }
 ],
 "metadata": {
  "kernelspec": {
   "display_name": "Python 3",
   "language": "python",
   "name": "python3"
  },
  "language_info": {
   "codemirror_mode": {
    "name": "ipython",
    "version": 3
   },
   "file_extension": ".py",
   "mimetype": "text/x-python",
   "name": "python",
   "nbconvert_exporter": "python",
   "pygments_lexer": "ipython3",
   "version": "3.7.3"
  }
 },
 "nbformat": 4,
 "nbformat_minor": 2
}